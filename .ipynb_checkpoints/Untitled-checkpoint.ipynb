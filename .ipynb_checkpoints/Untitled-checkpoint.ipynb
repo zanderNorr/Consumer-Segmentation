{
 "cells": [
  {
   "cell_type": "code",
   "execution_count": 1,
   "id": "e0b27e2f-42c6-4960-a660-ae3487b335e8",
   "metadata": {},
   "outputs": [
    {
     "name": "stderr",
     "output_type": "stream",
     "text": [
      "C:\\Users\\Zander\\AppData\\Local\\Temp\\ipykernel_30904\\523290643.py:4: DeprecationWarning: \n",
      "Pyarrow will become a required dependency of pandas in the next major release of pandas (pandas 3.0),\n",
      "(to allow more performant data types, such as the Arrow string type, and better interoperability with other libraries)\n",
      "but was not found to be installed on your system.\n",
      "If this would cause problems for you,\n",
      "please provide us feedback at https://github.com/pandas-dev/pandas/issues/54466\n",
      "        \n",
      "  import pandas as pd\n"
     ]
    },
    {
     "data": {
      "text/html": [
       "\n",
       "        <iframe\n",
       "            width=\"100%\"\n",
       "            height=\"650\"\n",
       "            src=\"http://127.0.0.1:8050/\"\n",
       "            frameborder=\"0\"\n",
       "            allowfullscreen\n",
       "            \n",
       "        ></iframe>\n",
       "        "
      ],
      "text/plain": [
       "<IPython.lib.display.IFrame at 0x2139d59f760>"
      ]
     },
     "metadata": {},
     "output_type": "display_data"
    }
   ],
   "source": [
    "from sklearn.mixture import GaussianMixture\n",
    "import numpy as np\n",
    "import pandas as pd\n",
    "import plotly.express as px\n",
    "import plotly.graph_objs as go\n",
    "from dash import Dash, html, dcc, Output, Input\n",
    "\n",
    "df = pd.read_csv(\"preprocessed_marketing_campaign.csv\")\n",
    "\n",
    "x1 = df[\"Income\"]\n",
    "x2 = df[\"MntTotalPurchased\"]\n",
    "\n",
    "X = np.array(list(zip(x1, x2))).reshape(len(x1), 2)\n",
    "\n",
    "app = Dash(__name__)\n",
    "\n",
    "app.layout = html.Div([\n",
    "    html.H1(\n",
    "        \"Scatterplot of Subgroup vs Income of Consumer\",\n",
    "        style={\"textAlign\": \"center\"},\n",
    "    ),\n",
    "    dcc.Dropdown(id='Scatterplot-selection',\n",
    "                 options=[\n",
    "                     {'label': 'MntWines', 'value': 'MntWines'},\n",
    "                     {'label': 'MntFruits', 'value': 'MntFruits'},\n",
    "                     {'label': 'MntMeatProducts', 'value': 'MntMeatProducts'},\n",
    "                     {'label': 'MntFishProducts', 'value': 'MntFishProducts'},\n",
    "                     {'label': 'MntSweetProducts', 'value': 'MntSweetProducts'},\n",
    "                     {'label': 'MntGoldProds', 'value': 'MntGoldProds'},\n",
    "                     {'label': 'MntTotalPurchased', 'value': 'MntTotalPurchased'},\n",
    "                 ],\n",
    "                value = 'MntTotalPurchased',\n",
    "    ),\n",
    "    dcc.Graph(id='Scatterplot'),\n",
    "    html.H1(\n",
    "        \"Gaussian Mixture Model (GMM) Clustering Of Income vs Total Amount Spent\",\n",
    "        style={\"textAlign\": \"center\"},\n",
    "    ),\n",
    "    dcc.Slider(id='GMM-slider', min=1, max=10, value=5, step=1),\n",
    "    dcc.Graph(id='GMM-plot')\n",
    "]\n",
    ")\n",
    "\n",
    "\n",
    "@app.callback(Output(\"GMM-plot\", \"figure\"), Input(\"GMM-slider\", \"value\"))\n",
    "def update_GMM_graph(n):\n",
    "    gmm = GaussianMixture(n_components=n, covariance_type='full')\n",
    "    gmm.fit(X)\n",
    "    labels = gmm.predict(X)\n",
    "    fig = px.scatter(\n",
    "        x=X[:, 0],\n",
    "        y=X[:, 1],\n",
    "        color=labels,\n",
    "        color_continuous_scale=\"plasma\",\n",
    "        title=f\"Gaussian Mixture Model (GMM) of Income vs Purchases # of clusters = {n}\",\n",
    "        labels={\"x\": \"Income (in $)\", \"y\": \"Total Spending (in $)\"},\n",
    "    )\n",
    "    return fig\n",
    "\n",
    "@app.callback(Output(\"Scatterplot\", \"figure\"), Input(\"Scatterplot-selection\", \"value\"))\n",
    "def update_scatterplot(y_type):\n",
    "    fig = px.scatter(\n",
    "        x = x1,\n",
    "        y = df[y_type],\n",
    "        labels={\"x\": \"Income (in $)\", \"y\": \"Total Spending (in $)\"},\n",
    "    )\n",
    "    return fig\n",
    "\n",
    "if __name__ == \"__main__\":\n",
    "    app.run_server(debug=True)\n"
   ]
  },
  {
   "cell_type": "code",
   "execution_count": null,
   "id": "c0f83af4-67b6-450a-9e0c-ec79488b38fa",
   "metadata": {},
   "outputs": [],
   "source": []
  }
 ],
 "metadata": {
  "kernelspec": {
   "display_name": "Python 3 (ipykernel)",
   "language": "python",
   "name": "python3"
  },
  "language_info": {
   "codemirror_mode": {
    "name": "ipython",
    "version": 3
   },
   "file_extension": ".py",
   "mimetype": "text/x-python",
   "name": "python",
   "nbconvert_exporter": "python",
   "pygments_lexer": "ipython3",
   "version": "3.10.5"
  }
 },
 "nbformat": 4,
 "nbformat_minor": 5
}
